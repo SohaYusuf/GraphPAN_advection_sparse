{
 "cells": [
  {
   "cell_type": "code",
   "execution_count": 1,
   "id": "4340429f",
   "metadata": {},
   "outputs": [
    {
     "name": "stderr",
     "output_type": "stream",
     "text": [
      "C:\\Users\\soha9\\anaconda3\\envs\\torch\\lib\\site-packages\\tqdm\\auto.py:22: TqdmWarning: IProgress not found. Please update jupyter and ipywidgets. See https://ipywidgets.readthedocs.io/en/stable/user_install.html\n",
      "  from .autonotebook import tqdm as notebook_tqdm\n"
     ]
    }
   ],
   "source": [
    "import argparse\n",
    "import os\n",
    "\n",
    "import numpy as np\n",
    "import torch\n",
    "import scipy\n",
    "from scipy.sparse import coo_matrix\n",
    "import scipy.sparse as sp\n",
    "from torch_geometric.data import Data"
   ]
  },
  {
   "cell_type": "code",
   "execution_count": 2,
   "id": "ddeb48ef",
   "metadata": {},
   "outputs": [],
   "source": [
    "def check_generate_random(A, u, b):\n",
    "    tmp = A.toarray()\n",
    "    print('A shape: ', A.shape)\n",
    "    print('b shape: ', b.shape)\n",
    "    print('x shape: ', u.shape)\n",
    "    residual_ = np.linalg.norm(b.reshape(-1,1) - A @ u.reshape(-1,1))\n",
    "    print('residual for 1 generate_sparse_random: ', residual_)"
   ]
  },
  {
   "cell_type": "code",
   "execution_count": 3,
   "id": "1a4f7b65",
   "metadata": {},
   "outputs": [],
   "source": [
    "def generate_sparse_random(n, alpha=1e-4, random_state=0, sol=False, sym=0, check=True):\n",
    "    # We add to spd matricies since the sparsity is only enforced on the cholesky decomposition\n",
    "    # generare a lower trinagular matrix\n",
    "    # Random state\n",
    "    rng = np.random.RandomState(random_state)\n",
    "    \n",
    "    if n == 100_000:\n",
    "        zero_prob = rng.uniform(0.999, 0.9998)\n",
    "    elif n > 5000 and n <= 10_000:\n",
    "        zero_prob = rng.uniform(0.995, 0.998)\n",
    "    elif n >= 1000 and n <= 5_000:\n",
    "        zero_prob = rng.uniform(0.993, 0.9965)\n",
    "    elif n == 1_000 or n == 2_000:\n",
    "        zero_prob = rng.uniform(0.98, 0.999)\n",
    "    elif n == 100:\n",
    "        zero_prob = rng.uniform(0.96, 0.99)\n",
    "    elif n <= 50:\n",
    "        zero_prob = 0.9\n",
    "    else:\n",
    "        raise NotImplementedError(f\"Can\\'t generate sparse matrix for n={n}\")\n",
    "    \n",
    "    # old code:\n",
    "    # S = rng.binomial(1, (1 - zero_prob), size=(n, n))\n",
    "    # M = rng.normal(0, 1, size=(n, n))\n",
    "    # M = S * M # enforce sparsity\n",
    "    \n",
    "    nnz = int((1 - zero_prob) * n ** 2)\n",
    "    rows = [rng.randint(0, n) for _ in range(nnz)]\n",
    "    cols = [rng.randint(0, n) for _ in range(nnz)]\n",
    "    \n",
    "    uniques = set(zip(rows, cols))\n",
    "    rows, cols = zip(*uniques)\n",
    "    \n",
    "    # generate values\n",
    "    vals = np.array([rng.normal(0, 1) for _ in cols])\n",
    "    mean = np.mean(vals)\n",
    "    std = np.std(vals)\n",
    "    vals = (vals - mean) / std\n",
    "\n",
    "    M = coo_matrix((vals, (rows, cols)), shape=(n, n))\n",
    "    I = scipy.sparse.identity(n)\n",
    "    \n",
    "    if sym:\n",
    "        # create spd matrix\n",
    "        A = M @ M.T + alpha * I    \n",
    "    else:\n",
    "        A = M + alpha * I\n",
    "        \n",
    "    b = rng.uniform(0, 1, size=n)\n",
    "    \n",
    "    if check:\n",
    "        x = scipy.sparse.linalg.spsolve(A, b)\n",
    "        check_generate_random(A, x, b)\n",
    "\n",
    "    else:\n",
    "        if sol:\n",
    "            x = scipy.sparse.linalg.spsolve(A, b)\n",
    "            return A, x, b\n",
    "        else:\n",
    "            x = None\n",
    "    \n",
    "    return A, x, b"
   ]
  },
  {
   "cell_type": "code",
   "execution_count": 4,
   "id": "78a5250d",
   "metadata": {},
   "outputs": [],
   "source": [
    "def gmres_without_preconditioner(A, b, u_true, tol, plot, method, path):\n",
    "\n",
    "    n = A.shape[0]\n",
    "    A = A.to_dense().numpy()\n",
    "    b = b.to_dense().numpy()\n",
    "    u_true = u_true.to_dense().numpy()\n",
    "    error = A @ u_true\n",
    "    print('error |x_true - x_hat|: ',error)\n",
    "    \n",
    "    global iteration\n",
    "    iteration = 0\n",
    "    residuals = []\n",
    "    \n",
    "    def callback(residual):\n",
    "        global iteration\n",
    "        iteration = iteration +1\n",
    "        residual_norm = np.linalg.norm(residual)\n",
    "        print(f'Iteration: {iteration} ==========> Residual: {residual_norm}')\n",
    "        residuals.append(residual_norm)\n",
    "            \n",
    "    u_gmres, info = gmres(A, b, tol=tol, callback=callback, maxiter=n)\n",
    "    u_gmres = u_gmres.reshape(-1,1)\n",
    "    u_true = u_true.reshape(-1,1)\n",
    "\n",
    "    error = np.linalg.norm(u_gmres - u_true)\n",
    "    print('error |x_true - x_hat|: ',error)\n",
    "    iterations_ = iteration\n",
    "    \n",
    "    if plot:\n",
    "        print(f\"Number of iterations for {method}:\", iteration)\n",
    "        plt.figure(1)\n",
    "        plt.plot(residuals, label=method)\n",
    "        plt.title(f'GMRES for random non-symmetric data (n={n})')\n",
    "        plt.xlabel('# iteration')\n",
    "        plt.ylabel('residual error')\n",
    "        plt.yscale('log')\n",
    "        plt.legend()\n",
    "        plt.savefig(f'{path}/{method}_gmres.png')\n",
    "    \n",
    "    return iterations_, residuals"
   ]
  },
  {
   "cell_type": "code",
   "execution_count": 5,
   "id": "6dc53ba7",
   "metadata": {},
   "outputs": [
    {
     "name": "stdout",
     "output_type": "stream",
     "text": [
      "A shape:  (1000, 1000)\n",
      "b shape:  (1000,)\n",
      "x shape:  (1000,)\n",
      "residual for 1 generate_sparse_random:  0.0028839910232729363\n"
     ]
    }
   ],
   "source": [
    "A, x, b = generate_sparse_random(n=1000, sol=True, sym=0)"
   ]
  },
  {
   "cell_type": "code",
   "execution_count": null,
   "id": "78a90bdf",
   "metadata": {},
   "outputs": [],
   "source": []
  }
 ],
 "metadata": {
  "kernelspec": {
   "display_name": "Python 3 (ipykernel)",
   "language": "python",
   "name": "python3"
  },
  "language_info": {
   "codemirror_mode": {
    "name": "ipython",
    "version": 3
   },
   "file_extension": ".py",
   "mimetype": "text/x-python",
   "name": "python",
   "nbconvert_exporter": "python",
   "pygments_lexer": "ipython3",
   "version": "3.8.16"
  }
 },
 "nbformat": 4,
 "nbformat_minor": 5
}
